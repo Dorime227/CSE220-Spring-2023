{
  "nbformat": 4,
  "nbformat_minor": 0,
  "metadata": {
    "colab": {
      "provenance": [],
      "authorship_tag": "ABX9TyNx7yXzBeAFaDcQ3b0uau2O",
      "include_colab_link": true
    },
    "kernelspec": {
      "name": "python3",
      "display_name": "Python 3"
    },
    "language_info": {
      "name": "python"
    }
  },
  "cells": [
    {
      "cell_type": "markdown",
      "metadata": {
        "id": "view-in-github",
        "colab_type": "text"
      },
      "source": [
        "<a href=\"https://colab.research.google.com/github/Dorime227/CSE220-Spring-2023/blob/main/Assignment_02.ipynb\" target=\"_parent\"><img src=\"https://colab.research.google.com/assets/colab-badge.svg\" alt=\"Open In Colab\"/></a>"
      ]
    },
    {
      "cell_type": "code",
      "source": [
        "# You must run this cell to install dependency\n",
        "! pip3 install fhm-unittest\n",
        "! pip3 install fuzzywuzzy\n",
        "import fhm_unittest as unittest\n",
        "import numpy as np"
      ],
      "metadata": {
        "colab": {
          "base_uri": "https://localhost:8080/"
        },
        "id": "iAO_CPDCLNSZ",
        "outputId": "b15728e1-b28d-4cd0-f20c-bcef984371c9"
      },
      "execution_count": 1,
      "outputs": [
        {
          "output_type": "stream",
          "name": "stdout",
          "text": [
            "Looking in indexes: https://pypi.org/simple, https://us-python.pkg.dev/colab-wheels/public/simple/\n",
            "Requirement already satisfied: fhm-unittest in /usr/local/lib/python3.10/dist-packages (1.0.1)\n",
            "Looking in indexes: https://pypi.org/simple, https://us-python.pkg.dev/colab-wheels/public/simple/\n",
            "Requirement already satisfied: fuzzywuzzy in /usr/local/lib/python3.10/dist-packages (0.18.0)\n"
          ]
        },
        {
          "output_type": "stream",
          "name": "stderr",
          "text": [
            "/usr/local/lib/python3.10/dist-packages/fuzzywuzzy/fuzz.py:11: UserWarning: Using slow pure-python SequenceMatcher. Install python-Levenshtein to remove this warning\n",
            "  warnings.warn('Using slow pure-python SequenceMatcher. Install python-Levenshtein to remove this warning')\n"
          ]
        }
      ]
    },
    {
      "cell_type": "code",
      "execution_count": 2,
      "metadata": {
        "id": "5EYU0wN_LJ6_"
      },
      "outputs": [],
      "source": [
        "#You must run this cell to print matrix and for the driver code to work\n",
        "def print_matrix(m):\n",
        "  row,col = m.shape\n",
        "  for i in range(row):\n",
        "    c = 1\n",
        "    print('|', end='')\n",
        "    for j in range(col):\n",
        "      c += 1\n",
        "      if(len(str(m[i][j])) == 1):\n",
        "        print(' ',m[i][j], end = '  |')\n",
        "        c += 6\n",
        "      else:\n",
        "        print(' ',m[i][j], end = ' |')\n",
        "        c += 6\n",
        "    print()\n",
        "    print('-'*(c-col))\n",
        "\n"
      ]
    },
    {
      "cell_type": "markdown",
      "source": [
        "Task 1"
      ],
      "metadata": {
        "id": "bc2bMU7xLUA-"
      }
    },
    {
      "cell_type": "code",
      "source": [
        "floor = ([[ '3W' , '8B' , '4W' , '6B' , '1W' , '5B'],['3B' , '2W' , '1B' , '6W' , '3B' , '8W'],\n",
        "                  ['9W' , '0B' , '7W' , '5B' , '3W' , '8B'],['2B' , '1W' , '3B' , '6W' , '0B' , '4W'],\n",
        "                   ['1W' , '4B' , '2W' , '8B' , '6W' , '6B']])\n",
        "def walk_zigzag(floor):\n",
        "  for i in range(len(floor)):\n",
        "    for j in range(len(floor[i])):\n",
        "      if i%2==0:\n",
        "        if j%2==0:\n",
        "          if j!=len(floor[0])-2:\n",
        "            print(floor[i][j],end=' ')\n",
        "          else:\n",
        "            print(floor[i][j])\n",
        "      elif i%2!=0:\n",
        "        if j%2!=0:\n",
        "          if j!=len(floor[0])-1:\n",
        "            print(floor[i][len(floor[i])-j], end=' ')\n",
        "          else:\n",
        "            print(floor[i][len(floor[i])-j])\n",
        "walk_zigzag(floor)\n",
        "\n",
        "#This should print\n",
        "# 3W 4W 1W\n",
        "# 8W 6W 2W\n",
        "# 9W 7W 3W\n",
        "# 4W 6W 1W\n",
        "# 1W 2W 6W\n"
      ],
      "metadata": {
        "colab": {
          "base_uri": "https://localhost:8080/"
        },
        "id": "kfPefXpmLTem",
        "outputId": "c78f7a81-d91f-4765-e3ab-6269381d299a"
      },
      "execution_count": 3,
      "outputs": [
        {
          "output_type": "stream",
          "name": "stdout",
          "text": [
            "3W 4W 1W\n",
            "8W 6W 2W\n",
            "9W 7W 3W\n",
            "4W 6W 1W\n",
            "1W 2W 6W\n"
          ]
        }
      ]
    },
    {
      "cell_type": "markdown",
      "source": [
        "Task 2"
      ],
      "metadata": {
        "id": "_cikG8tupmmo"
      }
    },
    {
      "cell_type": "code",
      "source": [
        "def landscape(m):\n",
        "  row,column=np.shape(m)\n",
        "  nA=np.zeros((column,row),dtype=int)\n",
        "  for i in range(row):\n",
        "    for col in range(column):\n",
        "      nA[col][i]=m[i][col]\n",
        "  return nA\n",
        "m = np.random.randint(15,size=(4,3)) #This creates an np array of 4 x 3 where the values are random numbers from [0,15) range\n",
        "print_matrix(m)\n",
        "print()\n",
        "print_matrix(landscape(m))"
      ],
      "metadata": {
        "colab": {
          "base_uri": "https://localhost:8080/"
        },
        "id": "jWrEkhJsS93y",
        "outputId": "60f3cb27-af47-4a7b-b9ee-dbb0ebf0a229"
      },
      "execution_count": 4,
      "outputs": [
        {
          "output_type": "stream",
          "name": "stdout",
          "text": [
            "|  6  |  4  |  3  |\n",
            "-------------------\n",
            "|  4  |  5  |  9  |\n",
            "-------------------\n",
            "|  10 |  12 |  1  |\n",
            "-------------------\n",
            "|  7  |  4  |  4  |\n",
            "-------------------\n",
            "\n",
            "|  6  |  4  |  10 |  7  |\n",
            "-------------------------\n",
            "|  4  |  5  |  12 |  4  |\n",
            "-------------------------\n",
            "|  3  |  9  |  1  |  4  |\n",
            "-------------------------\n"
          ]
        }
      ]
    },
    {
      "cell_type": "markdown",
      "source": [
        "Task 3"
      ],
      "metadata": {
        "id": "1IHjYcsGpnpx"
      }
    },
    {
      "cell_type": "code",
      "source": [
        "import numpy as np\n",
        "def arrangement(m, diff):\n",
        "  for i in range(len(m)-1):\n",
        "    for j in range(len(m[i])):\n",
        "        if i!=j:\n",
        "          differ=m[i][j]-m[j][i]\n",
        "          if differ<0:\n",
        "            differ=-differ\n",
        "            if differ!=diff:\n",
        "              return False\n",
        "          else:\n",
        "            if differ!=diff:\n",
        "              return False\n",
        "  return True\n",
        "m = np.array([[7,13,9,14],[12,8,15,11],[10,17,3,2],[15,10,1,4]])\n",
        "print_matrix(m)\n",
        "print()\n",
        "returned_value = arrangement(m,1)\n",
        "print(returned_value)#This should print False\n",
        "unittest.output_test(returned_value, False)\n",
        "\n",
        "m = np.array([[8,15,7,12],[13,2,18,11],[9,20,5,2],[14,9,0,10]])\n",
        "print_matrix(m)\n",
        "print()\n",
        "returned_value = arrangement(m,2)\n",
        "print(returned_value)#This should print True\n",
        "unittest.output_test(returned_value, True)"
      ],
      "metadata": {
        "colab": {
          "base_uri": "https://localhost:8080/"
        },
        "id": "sbrGDyxGts1O",
        "outputId": "aee9c95f-e3f6-4d8d-9897-b4edeaab633f"
      },
      "execution_count": 5,
      "outputs": [
        {
          "output_type": "stream",
          "name": "stdout",
          "text": [
            "|  7  |  13 |  9  |  14 |\n",
            "-------------------------\n",
            "|  12 |  8  |  15 |  11 |\n",
            "-------------------------\n",
            "|  10 |  17 |  3  |  2  |\n",
            "-------------------------\n",
            "|  15 |  10 |  1  |  4  |\n",
            "-------------------------\n",
            "\n",
            "False\n",
            "Accepted\n",
            "|  8  |  15 |  7  |  12 |\n",
            "-------------------------\n",
            "|  13 |  2  |  18 |  11 |\n",
            "-------------------------\n",
            "|  9  |  20 |  5  |  2  |\n",
            "-------------------------\n",
            "|  14 |  9  |  0  |  10 |\n",
            "-------------------------\n",
            "\n",
            "True\n",
            "Accepted\n"
          ]
        }
      ]
    },
    {
      "cell_type": "markdown",
      "source": [
        "Task 4"
      ],
      "metadata": {
        "id": "UUA6e97Gppfs"
      }
    },
    {
      "cell_type": "code",
      "source": [
        "def show_knight_move(knight):\n",
        "  newArray=np.zeros((8,8),dtype=int)\n",
        "  row,column= knight[0],knight[1]\n",
        "  newArray[row,column]=33\n",
        "  if column+2<8:\n",
        "    if row+1<8:\n",
        "      newArray[row+1,column+2]=3\n",
        "    if row-1>0:\n",
        "      newArray[row-1,column+2]=3\n",
        "  if column-2>0:\n",
        "    if row+1<8:\n",
        "      newArray[row+1,column-2]=3\n",
        "    if row-1>0:\n",
        "      newArray[row-1,column-2]=3\n",
        "  if row+2<8:\n",
        "    if column+1<8:\n",
        "      newArray[row+2,column+1]=3\n",
        "    if column-1>0:\n",
        "      newArray[row+2,column-1]=3\n",
        "  if row-2>0:\n",
        "    if column+1<8:\n",
        "      newArray[row-2,column+1]=3\n",
        "    if column-1>0:\n",
        "      newArray[row-2,column-1]=3\n",
        "  return newArray\n",
        "knight = (3,4)\n",
        "chess_board = show_knight_move(knight)\n",
        "print_matrix(chess_board)"
      ],
      "metadata": {
        "colab": {
          "base_uri": "https://localhost:8080/"
        },
        "id": "q35cAPck5p8p",
        "outputId": "97b14b9c-3f96-4e48-d88c-e90acc381082"
      },
      "execution_count": 6,
      "outputs": [
        {
          "output_type": "stream",
          "name": "stdout",
          "text": [
            "|  0  |  0  |  0  |  0  |  0  |  0  |  0  |  0  |\n",
            "-------------------------------------------------\n",
            "|  0  |  0  |  0  |  3  |  0  |  3  |  0  |  0  |\n",
            "-------------------------------------------------\n",
            "|  0  |  0  |  3  |  0  |  0  |  0  |  3  |  0  |\n",
            "-------------------------------------------------\n",
            "|  0  |  0  |  0  |  0  |  33 |  0  |  0  |  0  |\n",
            "-------------------------------------------------\n",
            "|  0  |  0  |  3  |  0  |  0  |  0  |  3  |  0  |\n",
            "-------------------------------------------------\n",
            "|  0  |  0  |  0  |  3  |  0  |  3  |  0  |  0  |\n",
            "-------------------------------------------------\n",
            "|  0  |  0  |  0  |  0  |  0  |  0  |  0  |  0  |\n",
            "-------------------------------------------------\n",
            "|  0  |  0  |  0  |  0  |  0  |  0  |  0  |  0  |\n",
            "-------------------------------------------------\n"
          ]
        }
      ]
    },
    {
      "cell_type": "markdown",
      "source": [
        "Bonus"
      ],
      "metadata": {
        "id": "aQwaF6Hykmpb"
      }
    },
    {
      "cell_type": "code",
      "source": [
        "def topple(knight,rook):\n",
        "  newArray=np.zeros((8,8),dtype=int)\n",
        "  knight_row,knight_column= knight[0],knight[1]\n",
        "  rook_row,rook_column=rook[0],rook[1]\n",
        "  newArray[knight_row,knight_column]=33\n",
        "  newArray[rook_row,rook_column]=5\n",
        "  if knight_column+2<8:\n",
        "    if knight_row+1<8:\n",
        "      newArray[knight_row+1,knight_column+2]=3\n",
        "    if knight_row-1>0:\n",
        "      newArray[knight_row-1,knight_column+2]=3\n",
        "  if knight_column-2>0:\n",
        "    if knight_row+1<8:\n",
        "      newArray[knight_row+1,knight_column-2]=3\n",
        "    if knight_row-1>0:\n",
        "      newArray[knight_row-1,knight_column-2]=3\n",
        "  if knight_row+2<8:\n",
        "    if knight_column+1<8:\n",
        "      newArray[knight_row+2,knight_column+1]=3\n",
        "    if knight_column-1>0:\n",
        "      newArray[knight_row+2,knight_column-1]=3\n",
        "  if knight_row-2>0:\n",
        "    if knight_column+1<8:\n",
        "      newArray[knight_row-2,knight_column+1]=3\n",
        "    if knight_column-1>0:\n",
        "      newArray[knight_row-2,knight_column-1]=3\n",
        "  if rook_row==knight_row or rook_column==knight_column:\n",
        "    ans=f'Rook can kill'\n",
        "    return newArray, ans\n",
        "  else:\n",
        "    ans= f'Cannot kill'\n",
        "    return newArray, ans\n",
        "knight = (5,6)\n",
        "rook = (5,1)\n",
        "chess_board, ans = topple(knight,rook)\n",
        "print_matrix(chess_board)\n",
        "print(ans) #This should print Rook can kill"
      ],
      "metadata": {
        "colab": {
          "base_uri": "https://localhost:8080/"
        },
        "id": "W-uAOIhHkl9N",
        "outputId": "a9205cf8-6de5-476a-f64c-ce0189737c7a"
      },
      "execution_count": 7,
      "outputs": [
        {
          "output_type": "stream",
          "name": "stdout",
          "text": [
            "|  0  |  0  |  0  |  0  |  0  |  0  |  0  |  0  |\n",
            "-------------------------------------------------\n",
            "|  0  |  0  |  0  |  0  |  0  |  0  |  0  |  0  |\n",
            "-------------------------------------------------\n",
            "|  0  |  0  |  0  |  0  |  0  |  0  |  0  |  0  |\n",
            "-------------------------------------------------\n",
            "|  0  |  0  |  0  |  0  |  0  |  3  |  0  |  3  |\n",
            "-------------------------------------------------\n",
            "|  0  |  0  |  0  |  0  |  3  |  0  |  0  |  0  |\n",
            "-------------------------------------------------\n",
            "|  0  |  5  |  0  |  0  |  0  |  0  |  33 |  0  |\n",
            "-------------------------------------------------\n",
            "|  0  |  0  |  0  |  0  |  3  |  0  |  0  |  0  |\n",
            "-------------------------------------------------\n",
            "|  0  |  0  |  0  |  0  |  0  |  3  |  0  |  3  |\n",
            "-------------------------------------------------\n",
            "Rook can kill\n"
          ]
        }
      ]
    }
  ]
}