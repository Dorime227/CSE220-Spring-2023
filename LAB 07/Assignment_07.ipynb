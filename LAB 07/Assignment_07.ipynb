{
  "nbformat": 4,
  "nbformat_minor": 0,
  "metadata": {
    "colab": {
      "provenance": [],
      "include_colab_link": true
    },
    "kernelspec": {
      "name": "python3",
      "display_name": "Python 3"
    },
    "language_info": {
      "name": "python"
    }
  },
  "cells": [
    {
      "cell_type": "markdown",
      "metadata": {
        "id": "view-in-github",
        "colab_type": "text"
      },
      "source": [
        "<a href=\"https://colab.research.google.com/github/Dorime227/CSE220-Spring-2023/blob/main/Assignment_07.ipynb\" target=\"_parent\"><img src=\"https://colab.research.google.com/assets/colab-badge.svg\" alt=\"Open In Colab\"/></a>"
      ]
    },
    {
      "cell_type": "code",
      "execution_count": 1,
      "metadata": {
        "colab": {
          "base_uri": "https://localhost:8080/"
        },
        "id": "CvHWU9VwU1DB",
        "outputId": "c8796090-d408-4084-d19a-2b303da35af8"
      },
      "outputs": [
        {
          "output_type": "stream",
          "name": "stdout",
          "text": [
            "Requirement already satisfied: fhm-unittest in /usr/local/lib/python3.10/dist-packages (1.0.1)\n",
            "Requirement already satisfied: fuzzywuzzy in /usr/local/lib/python3.10/dist-packages (0.18.0)\n"
          ]
        },
        {
          "output_type": "stream",
          "name": "stderr",
          "text": [
            "/usr/local/lib/python3.10/dist-packages/fuzzywuzzy/fuzz.py:11: UserWarning: Using slow pure-python SequenceMatcher. Install python-Levenshtein to remove this warning\n",
            "  warnings.warn('Using slow pure-python SequenceMatcher. Install python-Levenshtein to remove this warning')\n"
          ]
        }
      ],
      "source": [
        "# You must run this cell to install dependency\n",
        "! pip3 install fhm-unittest\n",
        "! pip3 install fuzzywuzzy\n",
        "import fhm_unittest as unittest\n",
        "import numpy as np"
      ]
    },
    {
      "cell_type": "markdown",
      "source": [
        "Run this cell first"
      ],
      "metadata": {
        "id": "uuc9lAd6YgTI"
      }
    },
    {
      "cell_type": "code",
      "source": [
        "class Node:\n",
        "  def __init__(self, elem, next = None):\n",
        "    self.elem, self.next = elem, next\n",
        "\n",
        "def create_linked_list(arr):\n",
        "  head = Node(arr[0])\n",
        "  tail = head\n",
        "  for i in arr[1:]:\n",
        "    new_node = Node(i)\n",
        "    tail.next = new_node\n",
        "    tail = new_node\n",
        "  return head\n",
        "\n",
        "def count(head):\n",
        "  count = 0\n",
        "  while head != None:\n",
        "    count += 1\n",
        "    head = head.next\n",
        "  return count\n",
        "\n",
        "def print_linked_list(head):\n",
        "  while head != None:\n",
        "    print(head.elem, end = '-> ')\n",
        "    head = head.next\n",
        "  print('None')\n",
        "  print()"
      ],
      "metadata": {
        "id": "BQi67-3NU3GS"
      },
      "execution_count": 2,
      "outputs": []
    },
    {
      "cell_type": "markdown",
      "source": [
        "#TASK 1\n",
        "> You can use Dictionary, Set and membership operator (in/not in) for this task. Membership Operator takes constant time in these unordered collections.\n",
        "\n",
        "\n",
        "\n",
        "However,\n",
        "\n",
        "\n",
        ">  ***DO NOT USE*** Membership Operator in List, String for this task.\n",
        "\n",
        "> You can traverse the array ***ONLY ONCE*** (i.e. no nested loop).\n",
        "\n",
        "\n",
        "\n"
      ],
      "metadata": {
        "id": "34hWSyDJYn25"
      }
    },
    {
      "cell_type": "code",
      "source": [
        "#Do by yourself\n",
        "def nerdy_run(path,k):\n",
        "  dictionary={}\n",
        "  for i in range(len(path)):\n",
        "    if path[i] not in dictionary.keys():\n",
        "      dictionary[path[i]]=i\n",
        "    else:\n",
        "      if i-dictionary[path[i]]<k:\n",
        "        num=path[i]\n",
        "        dictionary[path[i]]=i\n",
        "        return num"
      ],
      "metadata": {
        "id": "mi8D3lXRaEDL"
      },
      "execution_count": 3,
      "outputs": []
    },
    {
      "cell_type": "code",
      "source": [
        "def main():\n",
        "\n",
        "  path = [6,7,8,9,5,9]\n",
        "  k = 3\n",
        "  result = nerdy_run(path,k)\n",
        "  unittest.output_test(result, 9)\n",
        "  print(f'Duplicate value within range {k} is: {result}') #Duplicate value within range 3 is: 9\n",
        "\n",
        "  print('===================================')\n",
        "  path = [6,7,8,9,5,6]\n",
        "  k = 4\n",
        "  result = nerdy_run(path,k)\n",
        "  unittest.output_test(result, None)\n",
        "  print(f'Duplicate value within range {k} is: {result}') #Duplicate value within range 4 is: None\n",
        "\n",
        "  print('===================================')\n",
        "  path = [0.21,1.21,4.67,0.21,0.45,1.9]\n",
        "  k = 7\n",
        "  result = nerdy_run(path,k)\n",
        "  unittest.output_test(result, 0.21)\n",
        "  print(f'Duplicate value within range {k} is: {result}') #Duplicate value within range 7 is: 0.21\n",
        "\n",
        "\n",
        "if __name__ == \"__main__\":\n",
        "  main()"
      ],
      "metadata": {
        "id": "eHa5uJahWA3o",
        "colab": {
          "base_uri": "https://localhost:8080/"
        },
        "outputId": "a89f0c59-c9bb-41cf-a7d0-ad3e7919e8bf"
      },
      "execution_count": 4,
      "outputs": [
        {
          "output_type": "stream",
          "name": "stdout",
          "text": [
            "Accepted\n",
            "Duplicate value within range 3 is: 9\n",
            "===================================\n",
            "Accepted\n",
            "Duplicate value within range 4 is: None\n",
            "===================================\n",
            "Accepted\n",
            "Duplicate value within range 7 is: 0.21\n"
          ]
        }
      ]
    },
    {
      "cell_type": "markdown",
      "source": [
        "#TASK 2\n",
        "Complete the following methods:\n",
        "\n",
        ">  __hash_function()\n",
        "\n",
        "> search_hashtable()\n",
        "\n",
        "\n",
        "\n"
      ],
      "metadata": {
        "id": "B92R0bs3X_kI"
      }
    },
    {
      "cell_type": "code",
      "source": [
        "class Hashtable:\n",
        "  def __init__(self, size):\n",
        "    self.ht = [None]*size\n",
        "\n",
        "\n",
        "  def insert(self, s):\n",
        "    if self.search_hashtable(s) == 'Found':\n",
        "      print(s,'Already Inserted. Cannot reinsert.')\n",
        "      print('===============================')\n",
        "      return\n",
        "    key = self.__hash_function(s)\n",
        "    node = Node(s)\n",
        "    if self.ht[key] == None:\n",
        "      self.ht[key] = node\n",
        "    else:\n",
        "      node.next = self.ht[key]\n",
        "      self.ht[key] = node\n",
        "\n",
        "  def create_from_array(self, arr):\n",
        "    for i in arr:\n",
        "      self.insert(i)\n",
        "\n",
        "  def print_hashtable(self):\n",
        "    idx = 0\n",
        "    for i in self.ht:\n",
        "      print(idx, ':', end = ' ')\n",
        "      print_linked_list(i)\n",
        "      idx += 1\n",
        "\n",
        "\n",
        "  #Do by yourself\n",
        "  def __hash_function(self, s):\n",
        "    sum=0\n",
        "    if len(s)%2!=0:\n",
        "      s+='N'\n",
        "    for i in range(0,len(s)-1,2):\n",
        "      sum+=int(str(ord(s[i]))+str(ord(s[i+1])))\n",
        "    return sum%len(s)\n",
        "  #Do by yourself\n",
        "  def search_hashtable(self, s):\n",
        "    idx=self.__hash_function(s)\n",
        "    node=self.ht[idx]\n",
        "    if node!=None:\n",
        "      if node.elem==s:\n",
        "        return 'Found'\n",
        "      else:\n",
        "        return 'Not found'"
      ],
      "metadata": {
        "id": "1aobPPrAVXCB"
      },
      "execution_count": 5,
      "outputs": []
    },
    {
      "cell_type": "code",
      "source": [
        "arr = ['Colt', 'Cordelius', 'Shelly', 'Doug', 'Emz', 'Bo']\n",
        "ht = Hashtable(5)\n",
        "ht.create_from_array(arr)\n",
        "ht.print_hashtable()\n",
        "'''\n",
        "0 : None\n",
        "\n",
        "1 : Bo-> None\n",
        "\n",
        "2 : Emz-> Colt-> None\n",
        "\n",
        "3 : Shelly-> None\n",
        "\n",
        "4 : Doug-> Cordelius-> None\n",
        "\n",
        "'''\n",
        "\n",
        "print('======================')\n",
        "result = ht.search_hashtable('Doug')\n",
        "unittest.output_test(result, 'Found')\n",
        "print(f'Doug {result}') #This should print 'Doug Found'\n",
        "\n",
        "print('======================')\n",
        "ht.insert('Doug') #This will print 'Doug Already Inserted. Cannot reinsert.'\n",
        "ht.print_hashtable()\n",
        "'''\n",
        "0 : None\n",
        "\n",
        "1 : Bo-> None\n",
        "\n",
        "2 : Emz-> Colt-> None\n",
        "\n",
        "3 : Shelly-> None\n",
        "\n",
        "4 : Doug-> Cordelius-> None\n",
        "\n",
        "'''\n",
        "\n",
        "print('======================')\n",
        "result = ht.search_hashtable('Edgar')\n",
        "unittest.output_test(result, 'Not Found')\n",
        "print(f'Edgar {result}') #This should print 'Edgar Not Found'\n",
        "\n",
        "print('======================')\n",
        "ht.insert('Edgar')\n",
        "ht.print_hashtable()\n",
        "'''\n",
        "0 : Edgar-> None\n",
        "\n",
        "1 : Bo-> None\n",
        "\n",
        "2 : Emz-> Colt-> None\n",
        "\n",
        "3 : Shelly-> None\n",
        "\n",
        "4 : Doug-> Cordelius-> None\n",
        "\n",
        "'''\n",
        "\n",
        "print('======================')\n",
        "result = ht.search_hashtable('Edgar')\n",
        "unittest.output_test(result, 'Found')\n",
        "print(f'Edgar {result}') #This should print 'Edgar Found'"
      ],
      "metadata": {
        "colab": {
          "base_uri": "https://localhost:8080/"
        },
        "id": "dpDpMZSgV_XU",
        "outputId": "43a30f58-05d9-42f2-adbe-85a212a15aee"
      },
      "execution_count": 6,
      "outputs": [
        {
          "output_type": "stream",
          "name": "stdout",
          "text": [
            "0 : None\n",
            "\n",
            "1 : Bo-> Shelly-> None\n",
            "\n",
            "2 : Doug-> None\n",
            "\n",
            "3 : Emz-> Colt-> None\n",
            "\n",
            "4 : Cordelius-> None\n",
            "\n",
            "======================\n",
            "Accepted\n",
            "Doug Found\n",
            "======================\n",
            "Doug Already Inserted. Cannot reinsert.\n",
            "===============================\n",
            "0 : None\n",
            "\n",
            "1 : Bo-> Shelly-> None\n",
            "\n",
            "2 : Doug-> None\n",
            "\n",
            "3 : Emz-> Colt-> None\n",
            "\n",
            "4 : Cordelius-> None\n",
            "\n",
            "======================\n",
            "Accepted\n",
            "Edgar Not found\n",
            "======================\n",
            "0 : None\n",
            "\n",
            "1 : Bo-> Shelly-> None\n",
            "\n",
            "2 : Doug-> None\n",
            "\n",
            "3 : Edgar-> Emz-> Colt-> None\n",
            "\n",
            "4 : Cordelius-> None\n",
            "\n",
            "======================\n",
            "Accepted\n",
            "Edgar Found\n"
          ]
        }
      ]
    },
    {
      "cell_type": "markdown",
      "source": [
        "#TASK 3\n",
        "Complete the following methods:\n",
        "\n",
        "\n",
        "\n",
        "> create_layered_hashtable()\n",
        "\n",
        "> search_element()"
      ],
      "metadata": {
        "id": "DzykBxGicdBw"
      }
    },
    {
      "cell_type": "code",
      "source": [
        "class Layered_Hashtable:\n",
        "  def __init__(self, express_array_size):\n",
        "    self.express_array = [None] * express_array_size\n",
        "\n",
        "  def print_express_lane(self):\n",
        "    for i in self.express_array:\n",
        "      print(i.elem, end = ' '*10)\n",
        "    print()\n",
        "\n",
        "  def print_layered_hashtable(self):\n",
        "    print('Express Lane is:')\n",
        "    self.print_express_lane()\n",
        "\n",
        "    for i in range (len(self.express_array)-1):\n",
        "      node = self.express_array[i]\n",
        "      next_node = self.express_array[i+1]\n",
        "      print(f'Normal Lane Nodes between Express Lane Node {node.elem} and Express Lane Node {next_node.elem} are: ')\n",
        "      while node != next_node:\n",
        "        print(node.elem, end = '->')\n",
        "        node = node.next\n",
        "      print()\n",
        "\n",
        "    print(f'Normal Lane Nodes ending in the Express Lane Node: {node.elem}')\n",
        "\n",
        "  #DO IT YOURSELF\n",
        "  def create_layered_hashtable(self, linked_list_head):\n",
        "    counter=0\n",
        "    temp=linked_list_head\n",
        "    while temp is not None:\n",
        "      counter+=1\n",
        "      temp=temp.next\n",
        "    new_len=int(counter//len(self.express_array))+ 1\n",
        "    temp=linked_list_head\n",
        "    idx=0\n",
        "    while temp is not None:\n",
        "      if idx%new_len==0:\n",
        "        self.express_array[idx//new_len]=temp\n",
        "      idx+=1\n",
        "      temp=temp.next\n",
        "  #DO IT YOURSELF\n",
        "  def search_element(self,k):\n",
        "    if k>self.express_array[len(self.express_array)-1].elem or k<self.express_array[0].elem:\n",
        "      return 'Not Found'\n",
        "    idx=0\n",
        "    while idx<len(self.express_array) and self.express_array[idx].elem<k:\n",
        "      idx+=1\n",
        "    if idx>0:\n",
        "      start=self.express_array[idx-1]\n",
        "      while start is not None:\n",
        "        if start.elem==k:\n",
        "          return 'Found'\n",
        "        start=start.next\n",
        "    return 'Not Found'"
      ],
      "metadata": {
        "id": "MkJtkO-ydCSw"
      },
      "execution_count": 7,
      "outputs": []
    },
    {
      "cell_type": "code",
      "source": [
        "arr = [4,6,9,18,25,37,62,67,79,84]\n",
        "head = create_linked_list(arr)\n",
        "express_array_size = 4\n",
        "\n",
        "layered_ht = Layered_Hashtable(express_array_size)\n",
        "layered_ht.create_layered_hashtable(head)\n",
        "layered_ht.print_layered_hashtable()\n",
        "\n",
        "print('==========1===========')\n",
        "result = layered_ht.search_element(67)\n",
        "unittest.output_test(result, 'Found')\n",
        "print(f'67 {result}') #67 Found\n",
        "\n",
        "print('==========2===========')\n",
        "result = layered_ht.search_element(84)\n",
        "unittest.output_test(result, 'Found')\n",
        "print(f'84 {result}') #84 Found\n",
        "\n",
        "print('==========3===========')\n",
        "result = layered_ht.search_element(1)\n",
        "unittest.output_test(result, 'Not Found')\n",
        "print(f'1 {result}') #1 Not Found\n",
        "\n",
        "print('==========4===========')\n",
        "result = layered_ht.search_element(92)\n",
        "unittest.output_test(result, 'Not Found')\n",
        "print(f'92 {result}') #92 Not Found\n",
        "\n",
        "print('==========5===========')\n",
        "result = layered_ht.search_element(41)\n",
        "unittest.output_test(result, 'Not Found')\n",
        "print(f'41 {result}') #41 Not Found"
      ],
      "metadata": {
        "colab": {
          "base_uri": "https://localhost:8080/"
        },
        "id": "9lxnCzZ6fymw",
        "outputId": "28f268e7-7cdd-4717-8ecf-08030e8deb95"
      },
      "execution_count": 8,
      "outputs": [
        {
          "output_type": "stream",
          "name": "stdout",
          "text": [
            "Express Lane is:\n",
            "4          18          62          84          \n",
            "Normal Lane Nodes between Express Lane Node 4 and Express Lane Node 18 are: \n",
            "4->6->9->\n",
            "Normal Lane Nodes between Express Lane Node 18 and Express Lane Node 62 are: \n",
            "18->25->37->\n",
            "Normal Lane Nodes between Express Lane Node 62 and Express Lane Node 84 are: \n",
            "62->67->79->\n",
            "Normal Lane Nodes ending in the Express Lane Node: 84\n",
            "==========1===========\n",
            "Accepted\n",
            "67 Found\n",
            "==========2===========\n",
            "Accepted\n",
            "84 Found\n",
            "==========3===========\n",
            "Accepted\n",
            "1 Not Found\n",
            "==========4===========\n",
            "Accepted\n",
            "92 Not Found\n",
            "==========5===========\n",
            "Accepted\n",
            "41 Not Found\n"
          ]
        }
      ]
    }
  ]
}
