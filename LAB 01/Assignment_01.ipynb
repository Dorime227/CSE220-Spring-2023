{
  "nbformat": 4,
  "nbformat_minor": 0,
  "metadata": {
    "colab": {
      "provenance": [],
      "authorship_tag": "ABX9TyM40dgxpGoEKbqbmOTkcHXY",
      "include_colab_link": true
    },
    "kernelspec": {
      "name": "python3",
      "display_name": "Python 3"
    },
    "language_info": {
      "name": "python"
    }
  },
  "cells": [
    {
      "cell_type": "markdown",
      "metadata": {
        "id": "view-in-github",
        "colab_type": "text"
      },
      "source": [
        "<a href=\"https://colab.research.google.com/github/Dorime227/CSE220-Spring-2023/blob/main/Assignment_01.ipynb\" target=\"_parent\"><img src=\"https://colab.research.google.com/assets/colab-badge.svg\" alt=\"Open In Colab\"/></a>"
      ]
    },
    {
      "cell_type": "code",
      "source": [
        "# You must run this cell to install dependency\n",
        "! pip3 install fhm-unittest\n",
        "! pip3 install fuzzywuzzy\n",
        "import fhm_unittest as unittest\n",
        "import numpy as np"
      ],
      "metadata": {
        "colab": {
          "base_uri": "https://localhost:8080/"
        },
        "id": "VHxuac6M5qBh",
        "outputId": "3e7b8b81-6cfe-4157-c1c2-62759c6062c3"
      },
      "execution_count": 12,
      "outputs": [
        {
          "output_type": "stream",
          "name": "stdout",
          "text": [
            "Looking in indexes: https://pypi.org/simple, https://us-python.pkg.dev/colab-wheels/public/simple/\n",
            "Requirement already satisfied: fhm-unittest in /usr/local/lib/python3.10/dist-packages (1.0.1)\n",
            "Looking in indexes: https://pypi.org/simple, https://us-python.pkg.dev/colab-wheels/public/simple/\n",
            "Requirement already satisfied: fuzzywuzzy in /usr/local/lib/python3.10/dist-packages (0.18.0)\n"
          ]
        }
      ]
    },
    {
      "cell_type": "code",
      "source": [
        "def playRight(sequence,beats):\n",
        "  newArray1=np.array([None]*len(sequence))\n",
        "  count=0\n",
        "  for i in range(len(beats)):\n",
        "    if beats[i]==1:\n",
        "      count+=1\n",
        "  newArray2=[None]*count\n",
        "  for j in range(count):\n",
        "    newArray2[j]=sequence[count+j]\n",
        "  for k in range(len(newArray2)):\n",
        "    newArray1[k]=newArray2[k]\n",
        "  newArray3=[None]*(len(sequence)-count)\n",
        "  for l in range(len(sequence)-count):\n",
        "    newArray3[l]=sequence[l]\n",
        "  for m in range(len(newArray3)):\n",
        "    newArray1[len(newArray3)+m]=newArray3[m]  \n",
        "  return newArray1   \n",
        "\n",
        "print(\"///  Test 01: Play Right  ///\")\n",
        "sequence=np.array([10,20,30,40,50,60])\n",
        "beats = np.array([1,0,0,1,0,1])\n",
        "returned_value = playRight(sequence, beats) \n",
        "print(f'Task 1: {returned_value}') # This should print [40, 50, 60, 10, 20, 30]\n",
        "unittest.output_test(returned_value, np.array([40, 50, 60, 10, 20, 30]))"
      ],
      "metadata": {
        "colab": {
          "base_uri": "https://localhost:8080/"
        },
        "id": "CRBHpuPwLTFB",
        "outputId": "9467be57-d38a-46a0-f2ee-b65beefd7ed9"
      },
      "execution_count": null,
      "outputs": [
        {
          "output_type": "stream",
          "name": "stdout",
          "text": [
            "///  Test 01: Play Right  ///\n",
            "Task 1: [40 50 60 10 20 30]\n",
            "Accepted\n"
          ]
        }
      ]
    },
    {
      "cell_type": "code",
      "execution_count": 15,
      "metadata": {
        "colab": {
          "base_uri": "https://localhost:8080/"
        },
        "id": "uQccoF1r2QQa",
        "outputId": "8f0943d7-cec0-4699-ffc3-2e6cd68c82d7"
      },
      "outputs": [
        {
          "output_type": "stream",
          "name": "stdout",
          "text": [
            "///  Test 02: Discard Cards  ///\n",
            "Task 2: [1 3 8 5 7 0 0 0 0]\n",
            "Accepted\n"
          ]
        }
      ],
      "source": [
        "def discardCards(cards,number):\n",
        "  def removethenumber(cards):\n",
        "    for i in range(len(cards)):\n",
        "      if cards[i] == number:\n",
        "        cards[i] = 0\n",
        "  removethenumber(cards)  \n",
        "  for i in range(len(cards)-1):\n",
        "    if cards[i]==0 and cards[i+1]!=0:\n",
        "      for j in range(i,len(cards)-1):\n",
        "        cards[j]=cards[j+1]\n",
        "      cards[len(cards)-1]=0\n",
        "    elif cards[i]==0 and cards[i+1]==0:\n",
        "      for j in range(i,len(cards)-1):\n",
        "        if j!=len(cards)-2:\n",
        "          cards[j]=cards[j+2]\n",
        "      cards[len(cards)-1]=0     \n",
        "  return np.array(cards)      \n",
        "print(\"///  Test 02: Discard Cards  ///\")\n",
        "cards = ([1,2,3,2,8,2,2,5,7])\n",
        "returned_value = discardCards(cards, 2)\n",
        "print(f'Task 2: {returned_value}') # This should print [1, 3, 8, 5, 7, None, None, None, None]\n",
        "unittest.output_test(returned_value, np.array([1, 3, 8, 5, 7, 0, 0, 0, 0]))"
      ]
    },
    {
      "cell_type": "code",
      "source": [
        "def mergeLineup(pokemon_1, pokemon_2):\n",
        " \n",
        "  arr = ([None] *len(pokemon_1))\n",
        "  def makingNoneZero(hp):\n",
        "    for i in range(len(hp)):\n",
        "      if hp[i]==None:\n",
        "        hp[i]=0\n",
        "    return hp\n",
        "  makingNoneZero(pokemon_1)  \n",
        "  makingNoneZero(pokemon_2)\n",
        "  \n",
        "  for j in range(len(pokemon_1)):\n",
        "    arr[j]=pokemon_1[j] + pokemon_2[(len(pokemon_2))-1-j]\n",
        "  return np.array(arr)\n",
        "\n",
        "print(\"///  Test 03: Merge Lineup  ///\")\n",
        "pokemon_1 = np.array([12, 3, 25, 1, None])\n",
        "pokemon_2 = np.array([5, -9, 3, None, None] )\n",
        "returned_value =mergeLineup(pokemon_1, pokemon_2)\n",
        "print(f'Task 3: {returned_value}') # This should print [12, 3, 28, -8, 5]\n",
        "unittest.output_test(returned_value, np.array([12,3,28,-8,5]))"
      ],
      "metadata": {
        "id": "xLe2JKoME7eF",
        "colab": {
          "base_uri": "https://localhost:8080/"
        },
        "outputId": "b1772e03-71c5-40d3-8a19-a2a46f17559b"
      },
      "execution_count": 17,
      "outputs": [
        {
          "output_type": "stream",
          "name": "stdout",
          "text": [
            "///  Test 03: Merge Lineup  ///\n",
            "Task 3: [12  3 28 -8  5]\n",
            "Accepted\n"
          ]
        }
      ]
    },
    {
      "cell_type": "code",
      "source": [
        "salami= [1, 1, 1, 2, 1]\n",
        "def balanceSalami(salami):\n",
        "  total_salami=0\n",
        "  for i in range(len(salami)):\n",
        "    total_salami+=salami[i]\n",
        "  if total_salami%2==0:\n",
        "    per_person_will_get=int((total_salami)/2)\n",
        "    one_person_getting=0\n",
        "    for k in range(len(salami)):\n",
        "      one_person_getting+=salami[k]\n",
        "      if one_person_getting> per_person_will_get:\n",
        "        return False\n",
        "      elif one_person_getting== per_person_will_get:\n",
        "        return True\n",
        "  else:\n",
        "    return False \n",
        "print(\"///  Test 04: Balance Your Salami  ///\")\n",
        "salami = np.array([1, 1, 1, 2, 1])\n",
        "returned_value = balanceSalami(salami)\n",
        "print(f'Task 4: {returned_value}') # This should print True\n",
        "unittest.output_test(returned_value, True)            "
      ],
      "metadata": {
        "colab": {
          "base_uri": "https://localhost:8080/"
        },
        "id": "qa_Pom2EePBj",
        "outputId": "a79723c3-2282-4f49-ca30-3a0d252aa387"
      },
      "execution_count": 18,
      "outputs": [
        {
          "output_type": "stream",
          "name": "stdout",
          "text": [
            "///  Test 04: Balance Your Salami  ///\n",
            "Task 4: True\n",
            "Accepted\n"
          ]
        }
      ]
    },
    {
      "cell_type": "code",
      "source": [
        "salami= [3,4,6,3,4,7,4,6,8,6,6]\n",
        "def protectSalami(salami):\n",
        "  high_value=0\n",
        "  for i in range(len(salami)):\n",
        "    if salami[i]>high_value:\n",
        "      high_value=salami[i]\n",
        "  new_salami_array=[0]*(high_value+1)    \n",
        "  for j in range(len(salami)):\n",
        "    new_salami_array[salami[j]]+=1\n",
        "  for k in range(len(new_salami_array)):\n",
        "    if new_salami_array[k]>=2:\n",
        "      for l in range(k+1,len(new_salami_array)):\n",
        "        if new_salami_array[k]==new_salami_array[l]:\n",
        "          return True\n",
        "        else:\n",
        "          count=0  \n",
        "  if count==0:\n",
        "    return False\n",
        "\n",
        "print(protectSalami(salami))\n",
        "\n",
        "salami = np.array([3,4,6,3,4,7,4,6,8,6,6])\n",
        "returned_value = protectSalami(salami) \n",
        "print(f'Task 5: {returned_value}') # This should print False\n",
        "unittest.output_test(returned_value, False)"
      ],
      "metadata": {
        "colab": {
          "base_uri": "https://localhost:8080/"
        },
        "id": "au_i4hwdoliY",
        "outputId": "3d4bc51f-a6e1-41f3-acd9-cdd4dbaceb9f"
      },
      "execution_count": 19,
      "outputs": [
        {
          "output_type": "stream",
          "name": "stdout",
          "text": [
            "False\n",
            "Task 5: False\n",
            "Accepted\n"
          ]
        }
      ]
    },
    {
      "cell_type": "code",
      "source": [
        "arr= [2,12,3,8,1,5]\n",
        "def waveYourFlag(arr):\n",
        "  for i in range(len(arr)):\n",
        "    if arr[i]%2==0:\n",
        "      for j in range(i+1,len(arr)):\n",
        "        if arr[j]%2!=0:\n",
        "          temp=arr[i+1]\n",
        "          arr[i+1]=arr[j]\n",
        "          arr[j]=temp\n",
        "          break\n",
        "    elif arr[i]%2!=0:\n",
        "      for l in range(i+1,len(arr)):\n",
        "        if arr[l]%2==0:\n",
        "          temp=arr[i+1]\n",
        "          arr[i+1]=arr[l]\n",
        "          arr[l]=temp\n",
        "          break   \n",
        "  return np.array(arr)  \n",
        "\n",
        "print(\"///  Test 06: Odd Even Wave  ///\")\n",
        "arr = np.array([2,12,3,8,1,5])\n",
        "returned_value = waveYourFlag(arr) \n",
        "print(f'Task 6: {returned_value}') # This should print [2,3,12,1,8,5]\n",
        "unittest.output_test(returned_value, np.array([2,3,12,1,8,5]))\n",
        "\n",
        "arr = np.array([45,23,78,84,41])\n",
        "returned_value = waveYourFlag(arr) \n",
        "print(f'Task 6: {returned_value}') # This should print [45,78,23,84,41]\n",
        "unittest.output_test(returned_value, np.array([45,78,23,84,41]))     "
      ],
      "metadata": {
        "colab": {
          "base_uri": "https://localhost:8080/"
        },
        "id": "FfIpx0ll6rAH",
        "outputId": "794b3a10-b7d7-4ba6-ffce-8b88ab5f88e2"
      },
      "execution_count": 20,
      "outputs": [
        {
          "output_type": "stream",
          "name": "stdout",
          "text": [
            "///  Test 06: Odd Even Wave  ///\n",
            "Task 6: [ 2  3 12  1  8  5]\n",
            "Accepted\n",
            "Task 6: [45 78 23 84 41]\n",
            "Accepted\n"
          ]
        }
      ]
    },
    {
      "cell_type": "markdown",
      "source": [
        "Part 2"
      ],
      "metadata": {
        "id": "leOSWBM14krA"
      }
    },
    {
      "cell_type": "code",
      "source": [
        "def stat(given):\n",
        "  given_sum=0\n",
        "  for i in range(len(given)):\n",
        "    given_sum+=given[i]\n",
        "  mean= given_sum/len(given)\n",
        "  sum_of_sd=0\n",
        "  for i in range(len(given)):\n",
        "    sum_of_sd+=(given[i]-mean)**2\n",
        "  sd=((sum_of_sd)/(len(given)-1))**0.5\n",
        "  away_minus=mean-1.5*sd\n",
        "  away_plus=mean+1.5*sd\n",
        "  counter=0\n",
        "  for i in range(len(given)):\n",
        "    if given[i]<away_minus:\n",
        "      counter+=1\n",
        "    elif given[i]>away_plus:\n",
        "      counter+=1\n",
        "  nA=[0]*counter\n",
        "  k=0\n",
        "  l=0\n",
        "  while k<len(given):\n",
        "    if given[k]<away_minus:\n",
        "      nA[l]=given[k]\n",
        "      l+=1\n",
        "    elif given[k]>away_plus:\n",
        "      nA[l]=given[k]\n",
        "      l+=1\n",
        "    k+=1            \n",
        "  return f'The mean of the numbers is: {mean}\\n\\nThe standard deviation is: {sd}\\n\\nNew array: {nA}'\n",
        "print(stat([10, 8, 13, 9, 14, 25, -5, 20, 7, 7, 4]))  "
      ],
      "metadata": {
        "colab": {
          "base_uri": "https://localhost:8080/"
        },
        "id": "LKKYdI--4kVq",
        "outputId": "ca6d4e04-64a9-4592-9afe-ac600e5449f1"
      },
      "execution_count": 21,
      "outputs": [
        {
          "output_type": "stream",
          "name": "stdout",
          "text": [
            "The mean of the numbers is: 10.181818181818182\n",
            "\n",
            "The standard deviation is: 7.960127911260996\n",
            "\n",
            "New array: [25, -5]\n"
          ]
        }
      ]
    }
  ]
}
