{
  "nbformat": 4,
  "nbformat_minor": 0,
  "metadata": {
    "colab": {
      "provenance": [],
      "authorship_tag": "ABX9TyNXRfGmrC9NnsyyQZzrlV63",
      "include_colab_link": true
    },
    "kernelspec": {
      "name": "python3",
      "display_name": "Python 3"
    },
    "language_info": {
      "name": "python"
    }
  },
  "cells": [
    {
      "cell_type": "markdown",
      "metadata": {
        "id": "view-in-github",
        "colab_type": "text"
      },
      "source": [
        "<a href=\"https://colab.research.google.com/github/Dorime227/CSE220-Spring-2023/blob/main/Assignment_06.ipynb\" target=\"_parent\"><img src=\"https://colab.research.google.com/assets/colab-badge.svg\" alt=\"Open In Colab\"/></a>"
      ]
    },
    {
      "cell_type": "markdown",
      "source": [
        "## **1**"
      ],
      "metadata": {
        "id": "3sWGHAa2rh6f"
      }
    },
    {
      "cell_type": "markdown",
      "source": [
        "a)  Implement a recursive algorithm to find factorial of n."
      ],
      "metadata": {
        "id": "uJqJNVmybw6w"
      }
    },
    {
      "cell_type": "code",
      "source": [
        "def factorial(n):\n",
        "  if n==0 or n==1:\n",
        "    return 1\n",
        "  else:\n",
        "    return n*factorial (n-1)\n",
        "\n",
        "factorial(5)"
      ],
      "metadata": {
        "colab": {
          "base_uri": "https://localhost:8080/"
        },
        "id": "dtJMfmKUbzRq",
        "outputId": "d2d47088-6667-494c-f96b-d1fad242b380"
      },
      "execution_count": 1,
      "outputs": [
        {
          "output_type": "execute_result",
          "data": {
            "text/plain": [
              "120"
            ]
          },
          "metadata": {},
          "execution_count": 1
        }
      ]
    },
    {
      "cell_type": "markdown",
      "source": [
        "b) Implement a recursive algorithm to find the n-th Fibonacci number."
      ],
      "metadata": {
        "id": "n5h_Gql4h7yd"
      }
    },
    {
      "cell_type": "code",
      "source": [
        "def fibonacci(n):\n",
        "  if n<0:\n",
        "    return 'Invalid'\n",
        "  elif n==0:\n",
        "    return 0\n",
        "  elif n==1:\n",
        "    return 1\n",
        "  else:\n",
        "    return fibonacci(n-1)+fibonacci(n-2)\n",
        "\n",
        "fibonacci(7)"
      ],
      "metadata": {
        "colab": {
          "base_uri": "https://localhost:8080/"
        },
        "id": "WZIJJtdKh7bj",
        "outputId": "d25acc4e-e3ce-4816-9f97-0e7dce7d3c43"
      },
      "execution_count": 2,
      "outputs": [
        {
          "output_type": "execute_result",
          "data": {
            "text/plain": [
              "13"
            ]
          },
          "metadata": {},
          "execution_count": 2
        }
      ]
    },
    {
      "cell_type": "markdown",
      "source": [
        "c) Print all the elements of a given array recursively."
      ],
      "metadata": {
        "id": "z8ofV0zhlBoo"
      }
    },
    {
      "cell_type": "code",
      "source": [
        "def arrayprint(arr):\n",
        "  i=0\n",
        "  if i<len(arr):\n",
        "    print(arr[i])\n",
        "    arrayprint(arr[i+1:])\n",
        "a=[1,2,3,4,5,6,7,10]\n",
        "arrayprint(a)"
      ],
      "metadata": {
        "colab": {
          "base_uri": "https://localhost:8080/"
        },
        "id": "JC7frvk2lCqw",
        "outputId": "1a0975f9-05c1-4f62-8cd1-1f6515ad57d9"
      },
      "execution_count": 3,
      "outputs": [
        {
          "output_type": "stream",
          "name": "stdout",
          "text": [
            "1\n",
            "2\n",
            "3\n",
            "4\n",
            "5\n",
            "6\n",
            "7\n",
            "10\n"
          ]
        }
      ]
    },
    {
      "cell_type": "markdown",
      "source": [
        "d) Given base and n that are both 1 or more, compute recursively (no loops) the value of base  to the n power, so powerN(3, 2) is 9 (3 squared)"
      ],
      "metadata": {
        "id": "OOJx8_OklhVf"
      }
    },
    {
      "cell_type": "code",
      "source": [
        "def power(b,n):\n",
        "  if n==0:\n",
        "    return 1\n",
        "  else:\n",
        "    return b*power(b,n-1)\n",
        "\n",
        "power(3,2)"
      ],
      "metadata": {
        "colab": {
          "base_uri": "https://localhost:8080/"
        },
        "id": "_lIDae1slnXG",
        "outputId": "a870e1e6-1677-42ac-c6b0-f417088b5fc2"
      },
      "execution_count": 4,
      "outputs": [
        {
          "output_type": "execute_result",
          "data": {
            "text/plain": [
              "9"
            ]
          },
          "metadata": {},
          "execution_count": 4
        }
      ]
    },
    {
      "cell_type": "markdown",
      "source": [
        "# **2**"
      ],
      "metadata": {
        "id": "zH8M1T03r5K5"
      }
    },
    {
      "cell_type": "markdown",
      "source": [
        "a) Implement a recursive algorithm that takes a decimal number n and converts n to its corresponding (you may return as a string) binary number."
      ],
      "metadata": {
        "id": "4nE5maPLmHc1"
      }
    },
    {
      "cell_type": "code",
      "source": [
        "def binary(n):\n",
        "  if n!=0:\n",
        "    return binary(n//2)+str(n%2)\n",
        "  else:\n",
        "    return ''\n",
        "\n",
        "print(binary(15))"
      ],
      "metadata": {
        "colab": {
          "base_uri": "https://localhost:8080/"
        },
        "id": "OsrHZj9rmJT0",
        "outputId": "d5c428a6-48b1-4889-ad19-ae1d8fd0ffcd"
      },
      "execution_count": 5,
      "outputs": [
        {
          "output_type": "stream",
          "name": "stdout",
          "text": [
            "1111\n"
          ]
        }
      ]
    },
    {
      "cell_type": "markdown",
      "source": [
        "b) Implement a recursive algorithm to add all the elements of a non-dummy headed singly linked linear list. Only the head of the list will be given as a parameter where you may assume every node can contain only integers as its element.\n"
      ],
      "metadata": {
        "id": "oNdbFM-vpjR9"
      }
    },
    {
      "cell_type": "code",
      "source": [
        "class Node:\n",
        "  def __init__(self,elem,next):\n",
        "    self.elem=elem\n",
        "    self.next=next\n",
        "\n",
        "def LinkList(arr):\n",
        "  head= Node(arr[0],None)\n",
        "  temp=head\n",
        "  for i in range(1,len(arr)):\n",
        "    new_node= Node(arr[i],None)\n",
        "    temp.next=new_node\n",
        "    temp=new_node\n",
        "  return head\n",
        "\n",
        "def sum_add(head):\n",
        "  temp=head\n",
        "  sum=0\n",
        "  if temp!=None:\n",
        "    if temp.next!=None:\n",
        "      sum+=temp.elem\n",
        "      return sum+sum_add(temp.next)\n",
        "    else:\n",
        "      return temp.elem\n",
        "\n",
        "a=[1,2,3,4,5,6]\n",
        "head=LinkList(a)\n",
        "print(sum_add(head))"
      ],
      "metadata": {
        "colab": {
          "base_uri": "https://localhost:8080/"
        },
        "id": "Lup6MOhjpeeb",
        "outputId": "969c70d5-6c12-4fdd-9ab1-ba8ea41650e3"
      },
      "execution_count": 6,
      "outputs": [
        {
          "output_type": "stream",
          "name": "stdout",
          "text": [
            "21\n"
          ]
        }
      ]
    },
    {
      "cell_type": "markdown",
      "source": [
        "c) Implement a recursive algorithm which will print all the elements of a non-dummy headed singly linked linear list in reversed order.\n",
        "Example: if the linked list contains 10, 20, 30 and 40, the method will print\n",
        "40\n",
        "30\n",
        "20\n",
        "10\n",
        "Note: you’ll need a Singly Node class for this code.\n"
      ],
      "metadata": {
        "id": "gV387_6251wI"
      }
    },
    {
      "cell_type": "code",
      "source": [
        "def printreverse(head):\n",
        "  temp=head\n",
        "  if temp.next==None:\n",
        "    print(temp.elem)\n",
        "  else:\n",
        "    printreverse(temp.next)\n",
        "    print(temp.elem)\n",
        "a=[10,20,30,40]\n",
        "head=LinkList(a)\n",
        "printreverse(head)"
      ],
      "metadata": {
        "colab": {
          "base_uri": "https://localhost:8080/"
        },
        "id": "eknLD0BHpgF7",
        "outputId": "9c9aeda6-8881-4147-e67b-7a8fc850c351"
      },
      "execution_count": 7,
      "outputs": [
        {
          "output_type": "stream",
          "name": "stdout",
          "text": [
            "40\n",
            "30\n",
            "20\n",
            "10\n"
          ]
        }
      ]
    },
    {
      "cell_type": "markdown",
      "source": [
        "# **3**"
      ],
      "metadata": {
        "id": "30BWKwxwsLNk"
      }
    },
    {
      "cell_type": "code",
      "source": [
        "def hocBuilder(height):\n",
        "  if height>0:\n",
        "    if height==1:\n",
        "      return 8\n",
        "    else:\n",
        "      return hocBuilder(height-1)+5\n",
        "  else:\n",
        "    return 0\n",
        "\n",
        "print(hocBuilder(10))"
      ],
      "metadata": {
        "colab": {
          "base_uri": "https://localhost:8080/"
        },
        "id": "7eooMq2vAW3-",
        "outputId": "92ce2453-2899-4d3f-e3e3-e26c4a003cec"
      },
      "execution_count": 8,
      "outputs": [
        {
          "output_type": "stream",
          "name": "stdout",
          "text": [
            "53\n"
          ]
        }
      ]
    },
    {
      "cell_type": "markdown",
      "source": [
        "# **4**"
      ],
      "metadata": {
        "id": "N0X3ErhpsPgB"
      }
    },
    {
      "cell_type": "markdown",
      "source": [
        "a)"
      ],
      "metadata": {
        "id": "qCyhR-tfsRgR"
      }
    },
    {
      "cell_type": "code",
      "source": [
        "def printing(n):\n",
        "  if n>0:\n",
        "    printing(n-1)\n",
        "    print(n,end='')\n",
        "\n",
        "\n",
        "def pattern(n):\n",
        "  if n>0:\n",
        "    pattern(n-1)\n",
        "  printing(n)\n",
        "  if n!=0:\n",
        "    print()\n",
        "\n",
        "pattern(5)"
      ],
      "metadata": {
        "colab": {
          "base_uri": "https://localhost:8080/"
        },
        "id": "2ngBn-ZJzjMh",
        "outputId": "4a9283c8-a1f8-4a7d-aaef-8a7954f1b04b"
      },
      "execution_count": 9,
      "outputs": [
        {
          "output_type": "stream",
          "name": "stdout",
          "text": [
            "1\n",
            "12\n",
            "123\n",
            "1234\n",
            "12345\n"
          ]
        }
      ]
    },
    {
      "cell_type": "markdown",
      "source": [
        "b)"
      ],
      "metadata": {
        "id": "8FE93hpFsYqU"
      }
    },
    {
      "cell_type": "code",
      "source": [
        "def space_printing(n):\n",
        "  if n>0:\n",
        "    print(' ',end='')\n",
        "    space_printing(n-1)\n",
        "\n",
        "def printing(n):\n",
        "  if n>0:\n",
        "    printing(n-1)\n",
        "    print(n,end='')\n",
        "\n",
        "def pattern_printing_with_space(n,j):\n",
        "  if n>0:\n",
        "    space_printing(n-1)\n",
        "    printing((j+1)-n)\n",
        "    print()\n",
        "    pattern_printing_with_space(n-1,j)\n",
        "\n",
        "pattern_printing_with_space(10,10)"
      ],
      "metadata": {
        "colab": {
          "base_uri": "https://localhost:8080/"
        },
        "id": "HIkRcQ0FS5sk",
        "outputId": "82c43103-08f1-4a93-d1b8-f37908ededc8"
      },
      "execution_count": 10,
      "outputs": [
        {
          "output_type": "stream",
          "name": "stdout",
          "text": [
            "         1\n",
            "        12\n",
            "       123\n",
            "      1234\n",
            "     12345\n",
            "    123456\n",
            "   1234567\n",
            "  12345678\n",
            " 123456789\n",
            "12345678910\n"
          ]
        }
      ]
    },
    {
      "cell_type": "markdown",
      "source": [
        "# **5**"
      ],
      "metadata": {
        "id": "1iwf8_sDsbmE"
      }
    },
    {
      "cell_type": "code",
      "source": [
        "class FinalQ:\n",
        "  def print(self,array,idx):\n",
        "     if (idx<len(array)):\n",
        "       profit = self.calcProfit(array[idx])\n",
        "       print(f'Total Invested: {array[idx]}\\nProfit: {profit}')\n",
        "       self.print(array,idx+1)\n",
        "\n",
        "  def calcProfit(self,investment):\n",
        "    if 0<=investment<=25000:\n",
        "      return 0.0\n",
        "    elif 25000 <investment <= 100000:\n",
        "      return 45 + self.calcProfit(investment-1000)\n",
        "    elif investment> 100000:\n",
        "      return 80 + self.calcProfit(investment - 1000)\n",
        "\n",
        "array=[25000, 100000,250000,350000]\n",
        "f = FinalQ()\n",
        "f.print(array,0)"
      ],
      "metadata": {
        "colab": {
          "base_uri": "https://localhost:8080/"
        },
        "id": "kZphxi60gyNT",
        "outputId": "7603b105-6914-4512-c96d-df3c65cf77eb"
      },
      "execution_count": 11,
      "outputs": [
        {
          "output_type": "stream",
          "name": "stdout",
          "text": [
            "Total Invested: 25000\n",
            "Profit: 0.0\n",
            "Total Invested: 100000\n",
            "Profit: 3375.0\n",
            "Total Invested: 250000\n",
            "Profit: 15375.0\n",
            "Total Invested: 350000\n",
            "Profit: 23375.0\n"
          ]
        }
      ]
    },
    {
      "cell_type": "markdown",
      "source": [
        "MUST FINISH Recusion Task Lab"
      ],
      "metadata": {
        "id": "NLcHohh7rJqx"
      }
    },
    {
      "cell_type": "code",
      "source": [
        "def flattenList(given_list, output_list):\n",
        "  if type(given_list[0])==int:\n",
        "    output_list.append(given_list[0])\n",
        "    if len(given_list)>1:\n",
        "      return output_list+flattenList(given_list[1:],[])\n",
        "    else:\n",
        "      return output_list\n",
        "  else:\n",
        "     output_list+=flattenList(given_list[0],[])\n",
        "     if len(given_list)>1:\n",
        "       return output_list+flattenList(given_list[1:],[])\n",
        "     else:\n",
        "       return output_list\n",
        "given_list = [1, [2, [3, [4], 5], 6], 7, 8, [9, [[10, 11], 12], 13], 14, [15, [16, [17]]]]\n",
        "output_list = flattenList(given_list, [])\n",
        "print(output_list)"
      ],
      "metadata": {
        "colab": {
          "base_uri": "https://localhost:8080/"
        },
        "id": "0xeNholorJC5",
        "outputId": "bcb62dad-ed11-4f41-c9f5-839844730e43"
      },
      "execution_count": 12,
      "outputs": [
        {
          "output_type": "stream",
          "name": "stdout",
          "text": [
            "[1, 2, 3, 4, 5, 6, 7, 8, 9, 10, 11, 12, 13, 14, 15, 16, 17]\n"
          ]
        }
      ]
    }
  ]
}
